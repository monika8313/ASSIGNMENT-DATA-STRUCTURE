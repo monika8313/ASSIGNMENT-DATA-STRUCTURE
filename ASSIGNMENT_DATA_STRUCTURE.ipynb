{
  "nbformat": 4,
  "nbformat_minor": 0,
  "metadata": {
    "colab": {
      "provenance": []
    },
    "kernelspec": {
      "name": "python3",
      "display_name": "Python 3"
    },
    "language_info": {
      "name": "python"
    }
  },
  "cells": [
    {
      "cell_type": "markdown",
      "source": [
        "# DATA TYPES AND STRUCTURES QUESTIONS"
      ],
      "metadata": {
        "id": "_Etr6c5RaPQq"
      }
    },
    {
      "cell_type": "markdown",
      "source": [
        "1. WHAT ARE DATA STRUCTURES, AND WHY ARE THEY IMPORTANT?\n",
        "\n",
        " -Data structures are ways of oraganising and storing data in a computer so that it can be accessed and used efficiently. They provide a framework for managing data, allowing for operations like insertion, deletion, and retrieval to be performed ina systematic manner.\n",
        "\n",
        " They are important because they:\n",
        "\n",
        "  a. **Impact performance**: The choice of data structure can dramatically influence the speed and efficiency of algorithms that operate on the data. Some structures are better for searching, others for inserting or deleting.\n",
        "\n",
        "  b. **Manage complexity**: Data structure help in handling and organising large and complex databases in a structured manner, making it easier to work with them.\n",
        "\n",
        "  c. **Enable specific operations**: Different data structues are optimized for different types of operations. For example, a stack is designed for LIFO (last-in, first-out) access, while a queue if for FIFO (first-in, first-out) .\n",
        "\n",
        "  d. **Are building blocks**: Data structures are the foundation upon which more complex algorithms and programms are built. Understanding them is crucial for developing efficient and scable solutions.\n",
        "\n",
        "  Examples of common data structures include arrays, linked lists, stacks, queues, trees, graphs, and hash tables. Pyhton provides built-in data structures like lists, dictionaries, tuples and sets, which are widely used.\n"
      ],
      "metadata": {
        "id": "YCkbxauDaV1a"
      }
    },
    {
      "cell_type": "markdown",
      "source": [
        "2. Explain the difference between mutable and immutable data types with examples.\n",
        "\n",
        " -**Mutable data types**:\n",
        "\n",
        " Mutable objects can be changed after they are created. You can modify their contents without creating a new object. Examples include:\n",
        "\n",
        "* **Lists**: You can add, remove, or change elements.\n",
        "* **Dictionaries**: You can add, remove, or change key-value pairs.\n",
        "* **Sets**: You can add or remove elements.\n",
        "\n",
        " **Example (Lists)**:"
      ],
      "metadata": {
        "id": "OXa-hjZektVe"
      }
    },
    {
      "cell_type": "code",
      "source": [
        "my_list = [1, 2]\n",
        "my_list.append(3)  # Modifies the original list\n",
        "print(my_list)"
      ],
      "metadata": {
        "colab": {
          "base_uri": "https://localhost:8080/"
        },
        "id": "zcYUNanHzy3T",
        "outputId": "9de4893c-b548-49cb-f405-d9c36cadaf34"
      },
      "execution_count": null,
      "outputs": [
        {
          "output_type": "stream",
          "name": "stdout",
          "text": [
            "[1, 2, 3]\n"
          ]
        }
      ]
    },
    {
      "cell_type": "markdown",
      "source": [
        "  **Immutable data types**:\n",
        "\n",
        "  Immutable objects cannot be changed after they are created. Any operation that seems to modify an immutable object actually creates a new object with the changes. Examples include:\n",
        "\n",
        " * **Integers, flosts, strings**: Their values cannot be changed in place.\n",
        " * **Tuples**: Elements cannot be changed, added, or removed.\n",
        "\n",
        " **Examples (strings)**:"
      ],
      "metadata": {
        "id": "AODd2MRW0Oif"
      }
    },
    {
      "cell_type": "code",
      "source": [
        "my_string = \"Hello\"\n",
        "new_string = my_string + \" World\"  # Creates a new string\n",
        "print(new_string)\n",
        "print(my_string)  # Original string is unchanged"
      ],
      "metadata": {
        "colab": {
          "base_uri": "https://localhost:8080/"
        },
        "id": "LoL9dIBv2LTa",
        "outputId": "0027df79-aee0-4846-ab87-e0658780182d"
      },
      "execution_count": null,
      "outputs": [
        {
          "output_type": "stream",
          "name": "stdout",
          "text": [
            "Hello World\n",
            "Hello\n"
          ]
        }
      ]
    },
    {
      "cell_type": "markdown",
      "source": [
        "   In essence, if you can modify an object's without creating a new object, its mutable. If any \"modification\" results in a new object, it's immutable."
      ],
      "metadata": {
        "id": "tGFrkATe2gkO"
      }
    },
    {
      "cell_type": "markdown",
      "source": [
        "3. What are the main differences between lists and tuples?\n",
        "\n",
        "   -The primary differences between lists and tuples are:\n",
        "\n",
        "   a. **Mutability (can they be changed?)**:\n",
        "      * **Lists**: Mutable.You can add, remove, or modify elements after the list is created.\n",
        "      * **Tuples**: Immutable. Once a tuple is created , you cannot change its contents.\n",
        "\n",
        "   b. **Syntax (How they are written**):\n",
        "      * **Lists**: Use square brackets []. Example: [1, 2, 3]\n",
        "      * **Tuples**: Use parentheses (). Example:(1, 2, 3)\n",
        "\n",
        "   c. **Performance (Generally)**:\n",
        "      * Tuples can sometimes be slightly faster than lists because their size is fixed and doesn't need to accomodate changes.\n",
        "\n",
        "   d. **Purpose( when to use them)**:\n",
        "      * **Lists**: Best for collections of items where the order and content need to be dynamic or might change over time.\n",
        "      * **Tuples**: Best for representing a fixed collection of related items that should not be altered, like coordinates, configuration settings, or a group of values that belong together.\n",
        "\n",
        " Here's a simple visual reminder:\n",
        "    * [] = List(Changeable)\n",
        "    * () = Tuple(unchangeable)\n",
        "\n",
        " Choosing between a list and a tuple depends on whether you need a collection of items that can be modified (list) or a fixed collection that should not be altered (tuple).          "
      ],
      "metadata": {
        "id": "RxmGwqOh3XdR"
      }
    },
    {
      "cell_type": "markdown",
      "source": [
        "4. Describe how dictionaries store data?\n",
        "\n",
        "   -Dictionaries in oython store data as mappings between **keys** and **values**. Think of it as creating a link from a unique identifier  (the key) to a specific piece of infoemation (the value).\n",
        "\n",
        "   Here are the key aspects of how dictionaries store data:\n",
        "\n",
        "   a. **Key-value association**: The fundamental unit of a dictionary is the key-value pair. Each key is uniquely associated with a single value.\n",
        "\n",
        "   b. **Unique Keys**: Keys within a dictionary must be distinct. If you try to add an item with a key that already exists, the value associated with that key will be updated. Keys are typically immutable data types (like strings, numbers, or tuples) to ensure they are \"hashable\" and can be efficiently looked up.\n",
        "\n",
        "   c. **Accessible by key**: You access the data (values) in a dictionary by using their corresponding keys. This is a very fast operation.\n",
        "\n",
        "   d. **Values can be anything**: The values stored in a dictionary can be of any data type, including other collections like lists or even other dictionaries.\n",
        "\n",
        "   e. **Order**: In modern python versions (3.7 and later), dictionaries maintain the other in which the key-value pairs were inserted. In older versions, the order was not guranted."
      ],
      "metadata": {
        "id": "VrDLbfA8-VMU"
      }
    },
    {
      "cell_type": "markdown",
      "source": [
        "5. Why might you use a set instead of a list in pyhton?\n",
        "\n",
        "   -You might choose to use a set instead of a list in python for several reasons, primarily due to the inherent characteristics and optimized operations of sets.\n",
        "   Here are some key scenarios where a set is preferable:\n",
        "\n",
        "   a. **Storing unique elements**: Sets, by definition, cannot contain duplicate elements. If you need a collection of items where each item must be unique, using a set automatically enforces this. Adding a duplicate element to set has no effect.\n",
        "\n",
        "   * **Contrasts with lists**: Lists can contain duplicate elements. If you wanted unique elements in a list, you'd have to manually check for duplicates or convert the list to a set and back.\n",
        "\n",
        "   b. **Checking for membership(fast lookups)**: Sets are highly optimized for checking if an element is present in the collection using \"in\" operator. This operation is typically much faster for sets compared to lists, especially for large colections. This is because sets use a hash-based implementation(similar to dictionaries), allowing for near constant-time average performance for membership tests.\n",
        "\n",
        "   * **Contrast with lits**: Checking for membership in alist involves iterating through the list sequentially until the element is found (or not found). This can be slow for large lists.\n",
        "\n",
        "   c. **Performing set operations**: Sets provide built-in methods for common set operations like:\n",
        "\n",
        "   * **Union**: Combining elements from two or more sets (**|** or **.union**()).\n",
        "\n",
        "   * **Interaction**: Finding elements common to two or more sets (**&** or **.intersection**()).\n",
        "\n",
        "   * **Difference**: Finding elements in one set but not in another (**-** or **.difference**()).\n",
        "\n",
        "   * **Symmetric difference**: Finding elements that are in either of two sets but not in both (**^** or **.symmetric_difference**()). These operations are highly efficient when performed on sets.\n",
        "\n",
        "   * **Contrast with lists**: Performing equivalent operations on lists would require writing more complex code and would generally be less efficient.\n",
        "\n",
        "   d. **Removing duplicates from a collection**: A quick and easy way to remove duplicates from a list or other iterable is to convert it to a set.\n",
        "\n",
        "   **Examples**:\n",
        "   "
      ],
      "metadata": {
        "id": "ylBqEwRIFLK2"
      }
    },
    {
      "cell_type": "code",
      "source": [
        "my_list_with_duplicates = [1, 2, 2, 3, 4, 4, 5]\n",
        "unique_elements = set(my_list_with_duplicates)\n",
        "print(unique_elements)"
      ],
      "metadata": {
        "colab": {
          "base_uri": "https://localhost:8080/"
        },
        "id": "x2Al8p9-la3o",
        "outputId": "88b50fba-b5f8-40e2-b147-6af4708f8a5c"
      },
      "execution_count": null,
      "outputs": [
        {
          "output_type": "stream",
          "name": "stdout",
          "text": [
            "{1, 2, 3, 4, 5}\n"
          ]
        }
      ]
    },
    {
      "cell_type": "markdown",
      "source": [
        "   **When to use a list instead of a set**:\n",
        "\n",
        "   * When the order of elements matters. Sets are inherently unordered (although in modern python, they maintain insertion order for iteration, this is not part of their definition).\n",
        "\n",
        "   * When you need to store duplicate elements.\n",
        "\n",
        "   * When you need to access elements by index. Sets do not support indexing or slicing.\n",
        "\n",
        "\n",
        "   In summary, use a set when you need a collection of unique, unordered elements and when you frequently perform membership tests or set operations. Use a list when you need an ordered collection that may contain duplicates and when you need to access elements by index."
      ],
      "metadata": {
        "id": "BCIHCBcCmByt"
      }
    },
    {
      "cell_type": "markdown",
      "source": [
        "6. What is a string in python, and how is it different from a list?\n",
        "\n",
        "  -In python, a string is a sequence of characters. Characters can include letters, numbers, symbols, and spaces. Strings are used to represent text.\n",
        "\n",
        "  * Strings are enclosed in either single quotes ( ' ' ), double quotes ( \" \" ), or triple quotes ( \"\"\" \"\"\" or ''' ''').\n",
        "\n",
        "  * Strings are an immutable data type. This is a key characteristic. It means that once a string is created, you cannot change its individual characters in place. Any operation that seems to modify  string actually creates a new string.\n",
        "\n",
        "  **Example of a string**:"
      ],
      "metadata": {
        "id": "RnWuorCJoeGF"
      }
    },
    {
      "cell_type": "code",
      "source": [
        "my_string = \"hello, world!\"\n",
        "another_string = 'python is fun'\n",
        "multiline_string = \"\"\"This is a\n",
        "multiline string\"\"\""
      ],
      "metadata": {
        "id": "VdUVc05Bqo5K"
      },
      "execution_count": null,
      "outputs": []
    },
    {
      "cell_type": "markdown",
      "source": [
        " As we discussed earlier, a list in python in python is an ordered collection of items. These items can be of different data types.\n",
        "      \n",
        " * Lists are enclosed in square brackets( [] ).\n",
        " * Lists are a mutable data type. This means you can change their contents after they are created, including adding, removing, or modifying elements.\n",
        "\n",
        "      **Example of a list:**\n"
      ],
      "metadata": {
        "id": "PGdddTPTrPzi"
      }
    },
    {
      "cell_type": "code",
      "source": [
        "my_list = [1, \"apple\", 3.14, true]"
      ],
      "metadata": {
        "id": "f94NfyNUuMCA"
      },
      "execution_count": null,
      "outputs": []
    },
    {
      "cell_type": "markdown",
      "source": [
        "**How is a string diffrent from a list?**\n",
        "\n",
        "The main difference between strings and lists in python are:\n",
        "\n",
        "a. **Data type**:\n",
        "   * **Strings**: Primarily hold sequences of characters(text).\n",
        "   * **Lists**: Can hold a  sequence of any data (numbers, strings, other lists, etc.).\n",
        "\n",
        "b. **Mutability**:\n",
        "   * **Strings**: Immutable. You cannot individual characters in an existing string.\n",
        "   * **Lists**: Mutable. You can add, remove, or modify elements in an existing lists.\n",
        "\n",
        "c. **Purpose**:\n",
        "   * **Strings**: Designed specifically for working with textual data.\n",
        "   * **Lists**: Designed for storing and managing ordered collections of diverse items that may need to be changed.\n",
        "\n",
        "d. **Operations**: While both support slicing and indexing to access individual elements or subsets, the operations you can perform on them differ due to their mutability. You can append to a list, but you can't directly append to a string( you create a new string).          "
      ],
      "metadata": {
        "id": "VioO0H2XMzDO"
      }
    },
    {
      "cell_type": "markdown",
      "source": [
        "7. How do tuples ensure data integrity in python?\n",
        "\n",
        "  -Tuples contribute to data integrity in python through their immutability. This means that once a tuple is created, its contents cannot be changed, added to, or removed.\n",
        "\n",
        "  Here's how this property helps ensure data integrity:\n",
        "\n",
        "  a.**Protection against unintentional changes**: The immutability of tuples acts as a safeguard against accidental modifications. If you have a tuple containing critical data (like a user's birth date or transaction ID), you can be confident that no other part of your program will inadvertently alter these values. This is especially important in larger programs or when working with multiple functions that might interact with the same data.\n",
        "\n",
        "  b. **Ensuring data consistency**: When you use a tuple to group related pieces of data thata should always appear together and remain unchanged(e.g., the coordinates of a point (x, y), the immutability guarantees that this pairing and the individual values within it stay consistent. You won't end up with a situation where only one part of the pair is updated or an element is missing.\n",
        "\n",
        "  c. **Reliable identifiers**: Because tuples are immutable , they can be used as reliable identifies oe keys where mutability would cause problems. As mentioned previously, their hashability allows them to be used as dictionary keys or elements in sets, ensuring that the identity of the key/element remains constant for efficient lookups.\n",
        "\n",
        "  **In essence**:\n",
        "  Using a tuple for data that should not change provides a level of assurance that the data will reamain in its original state throughout the program's execution. This makes your code more predictible and reduces the risk of errors caused by unexpected data modifications. It's a way of enforcing a contract that the data in the tuple is read-only."
      ],
      "metadata": {
        "id": "kW9cVw4BQQud"
      }
    },
    {
      "cell_type": "markdown",
      "source": [
        "8. What is a hash table, and how does it relate to dictionaries in python?\n",
        "\n",
        "  -**Hash table** is a data structure designed for very fast retrieval of data based on a key. it works by using a special function called a hash function to quickly calculate a location (an index) in an internal storage area where the data associated with a key is likely to be found.\n",
        "  Imagine you have a large collection of items, each with a unique identifier (the key). A hash table allows you to go almost directly to the item you want by using its identifier, instead of having to search through the entire collection.\n",
        "\n",
        "  **Python dictionaries** are fundamentally built in the concept of hash table. THe efficient performance of python dictionaries, especially for looking up values by their keys, is a direct result of their hash table implementation.\n",
        "\n",
        "  Here's the connection and why it's imporatnt:\n",
        "\n",
        "  a. **Key-based access**: Dictionaries are designed for accessing data using keys. You give the dictionary a key, and it gives you back the corresponding value.\n",
        "\n",
        "  b. **Harsh Table for Speed**: To make this key  access very fast,Python uses a high table internally.When you provide a key,Python calculates iys \"hash\" (a numerical value). This hash is then used to quickly d=figure out where is the dictionary's internal structure the value for that key is stored.\n",
        "\n",
        "  c. **Why it's fast**: This hashing and direct look up process is incredibly efficient. In a well-fucntioning hash table ,finding an item takes roughly the same amount of time ,regardless of how many items are in the dictionary . This is often referred to as O(1) average time complexity.\n",
        "\n",
        "  d. **Requirement for hashable keys**: This is why the keys you use in Python dictionary must be \"hashable\". Hashable objects are those whose hash value remains constant throughout their lifetime.Immmutable types like strings,numbers,and tuples are hashable .Mutable types like lists and dictionaries are not,because their constant can change,which would change their hash value and disrupt the hash table's ability to locate the key.\n",
        "\n",
        "  **In simple terms**:\n",
        "  Think of a library with a very clever catalog system. you give the librarian the book title (the key ),and they use a soecial formula (the hash function) to calculate exactly which shekf and position the book is on .They don't have to search every shelf .\n",
        "\n",
        "  Python dictionaries are like that clever library catalog.The hash table is the clever system ,the keys are the book titles, and the values are teh books themselves.The hash functions helps Python go directly to the right \"shelf\" (internal location) to find the value you asked for .\n",
        "\n",
        "  So, the hash table is the underlying technology that makes Python dictionaries so fast and efficient for retrieving data based on kkeys."
      ],
      "metadata": {
        "id": "KwAC9uwTWUeo"
      }
    },
    {
      "cell_type": "markdown",
      "source": [
        "9. Can lists contain different data tyoes in python?\n",
        "\n",
        "   -Yes, lists in python can contain different data types .\n",
        "\n",
        "   This is one of the key characteristics of python lists and a major difference compared to arrays in some other programming languages ( like C or java) which typically require all elements to be of the same data type.\n",
        "\n",
        "   In pyhton, a single list can store a mix of integers, floats, strings, bolleans, other lists, dictionaries, or any other python object.\n",
        "\n",
        "   Here's an exmpale:"
      ],
      "metadata": {
        "id": "peMZji9xa9K2"
      }
    },
    {
      "cell_type": "code",
      "source": [
        "my_list = [1, 2.5, \"hello\", True, [3, 4], {\"key\": \"value\"}]\n",
        "print(my_list)"
      ],
      "metadata": {
        "colab": {
          "base_uri": "https://localhost:8080/"
        },
        "id": "RgoMfg0xc_Wo",
        "outputId": "fcdaf8b2-f09a-439f-f55d-8ff78a6493a8"
      },
      "execution_count": 3,
      "outputs": [
        {
          "output_type": "stream",
          "name": "stdout",
          "text": [
            "[1, 2.5, 'hello', True, [3, 4], {'key': 'value'}]\n"
          ]
        }
      ]
    },
    {
      "cell_type": "markdown",
      "source": [
        "10. Explain why strings are immutable in python?\n",
        "\n",
        "    -The key reason strings in pyhton are immutable is about **consistency**, **efficiency**, and **safety**. Immutability means that once a string object is created, its sequence of characters cannot be changed.\n",
        "\n",
        "    Here's why this is the case:\n",
        "\n",
        "    a. **Memory efficiency(string interning)**: Python can save memory by having multiple variables referto the same string object if those strings have the exact same sequence of characters.\n",
        "    For example: If you have **a = \"apple\"** and **b = \"apple\"**, both **a** and **b** can point to the same underlying string in memory. If strings were mutable, changing **a** would also change **b**, which is likely not what you want. Immutability ensures that if you want a slightly different string, you create a new one, preserving the original for others who might be using it.\n",
        "\n",
        "    b. **Reliability in dictionaries and sets (hashability)**: Strings are commonly used as keys in dictionaries and elements in sets . FOr these data structures to work efficiently, their keys and elements must be \"hashable\". This means they need a fixed hash value that is calculated based on their content at crestion and never changes. If strings were mutable, their hash value could change, breaking the fast lookup mechanisms used by dictionaries and sets.\n",
        "\n",
        "    c. **Predictable Behaviour and thread safety**: Immutability prevents accidental modification of strings. When you pass a string to a function, you know the function can't change the origina string object you passed in. This makes code easier to reason about and less prone to bugs. In multi-threaded programs, multiple threads can safely access the same string without needing complex locking mechanisms because no thread can change it.\n",
        "\n",
        "    d. **Simpler implementation**: For pyhton's internal workings, dealing with immutable strings can simply some aspects of memory management and object handling.\n",
        "\n",
        "    In summary, the immutability of strings in python is a fundamental design choice that provides benefits in terms of memory usage, performance for key-based data structures, and overall code predictibility and safety, especially in concurrent environments. Any operation that seems to alter a string, like concatenation or replacing characters, actually produces a brand new string object.\n"
      ],
      "metadata": {
        "id": "Ug2x1AMIdLni"
      }
    },
    {
      "cell_type": "markdown",
      "source": [
        "11. What advantages do dictionaries offer over lists for certain tasks?\n",
        "\n",
        "    -Dictionaries and lists both store data, but dictionaries offer distinct advantages for certain tasks:\n",
        "\n",
        "    a. **Fast lookups**: Dictionaries use key-value pairs, allowing for quick access to data using keys instead of searching through an index. This makes them ideal when you frequently need to retrieve specific values.\n",
        "\n",
        "    b. **Associative mapping**:Unlike lists, which rely on ordered positions, dictionaries allow meaningful associates between keys and values, making data more intuitive to manage.\n",
        "\n",
        "    c. **Efficient updates**: Mdifying values in a dictionary is direct and efficient since you access elements via keys rather than navigating an index.\n",
        "\n",
        "    d. **Sparse data handling**: Dictionaries are useful when storing sparse data because they don't require sequential indexing, saving memory for databases with missing values.\n",
        "\n",
        "    e. **Uniqueness**: Dictionary keys are unique, preventing accidental duplication of identifiers, which can be helpful when ensuring distinct mappings.\n",
        "    "
      ],
      "metadata": {
        "id": "z5aqnNyvmjrT"
      }
    },
    {
      "cell_type": "markdown",
      "source": [
        "12. Describe a scenario where using a tuple would be preferable over a list.\n",
        "\n",
        "    -A tuple is preferable over a list when you need **immutable** data--vaLUES that should not change throughout the program. Here's a scenario:\n",
        "\n",
        "    Imagine you're storing a **set of coordinates** for a landmark, such as the latitude and longitude of the Taj mahal:\n",
        "\n",
        "  "
      ],
      "metadata": {
        "id": "a4QJ5bERqS0_"
      }
    },
    {
      "cell_type": "code",
      "source": [
        "taj_mahal_coordinates = (27.1751, 78.0421)"
      ],
      "metadata": {
        "id": "GEMZn4W-rpmU"
      },
      "execution_count": 4,
      "outputs": []
    },
    {
      "cell_type": "markdown",
      "source": [
        "Since these values **should remain constant**, a tuple ensures they won't be accidentally modified.\n",
        "\n",
        "This is useful in cases like:\n",
        "* **Fumction arguments**- If you're passing a collections of values that should not be altered, tuples prevent unintended modifications.\n",
        "\n",
        "* **Dictionary keys**: Tuples can be used as keys in dictionaries (lists cannot), allowing efficient lookups with immutable identifiers.\n",
        "\n",
        "* **Memory efficiency**: Tuples consume less memory than lists, making them ideal for storing fixed collections."
      ],
      "metadata": {
        "id": "-EX0OO5ErxBs"
      }
    },
    {
      "cell_type": "markdown",
      "source": [
        "13. How do sets handle duplicate values in python?\n",
        "\n",
        "    -In python, **sets automatically remove duplicate valus**, ensuring that each element is unique. If you try adding duplicates, pyhton simply ignores them.\n",
        "\n",
        "    For example:"
      ],
      "metadata": {
        "id": "xR83nSWxtP0Z"
      }
    },
    {
      "cell_type": "code",
      "source": [
        "numbers = {1, 2, 3, 3, 4, 4, 5,}\n",
        "print(numbers)"
      ],
      "metadata": {
        "colab": {
          "base_uri": "https://localhost:8080/"
        },
        "id": "v2RkrjaTt--4",
        "outputId": "13e2e4db-71cf-4c17-f4f2-027127782207"
      },
      "execution_count": 6,
      "outputs": [
        {
          "output_type": "stream",
          "name": "stdout",
          "text": [
            "{1, 2, 3, 4, 5}\n"
          ]
        }
      ]
    },
    {
      "cell_type": "markdown",
      "source": [
        "Even though **3** and **4** were added multiple items, the set retains only **one** instance of each.\n",
        "\n",
        "This behaviour makes sets ideal for tasks like:\n",
        "\n",
        "* **Eliminating duplicates from lists**: quickly get unique values from a dataset.\n",
        "\n",
        "* **Membership testing**: Checking if an eleent exists in a collection is faster in sets compared to lists.\n",
        "\n",
        "* **Set opertions**: Perform mathematical operations like union, intersection, and difference efficiently.\n"
      ],
      "metadata": {
        "id": "HMvL_vj0uOgB"
      }
    },
    {
      "cell_type": "markdown",
      "source": [
        "14. How does the \"in\" keyword work differently for lists and dictionaries.\n",
        "\n",
        "   -The **in** keyword checks for membership in both lists and dictionaries , but it behaves diffrently depending on the data structure:\n",
        "\n",
        "   a. **Lists (checks for value presence)**\n",
        "   when used with a list, \"in\" searches through th eelements to see if the value exists:"
      ],
      "metadata": {
        "id": "nqFdpPGQwfsL"
      }
    },
    {
      "cell_type": "code",
      "source": [
        "fruits = [\"apple\", \"banana\", \"cherry\"]\n",
        "print(\"banana\" in fruits)"
      ],
      "metadata": {
        "colab": {
          "base_uri": "https://localhost:8080/"
        },
        "id": "XvDwFbGXyOqj",
        "outputId": "05f3ab6e-272d-4265-8451-c63465a6acab"
      },
      "execution_count": 7,
      "outputs": [
        {
          "output_type": "stream",
          "name": "stdout",
          "text": [
            "True\n"
          ]
        }
      ]
    },
    {
      "cell_type": "markdown",
      "source": [
        "This operation **requires scanning** the entire list (in worst cases), making it slower if the list is large.\n",
        "\n",
        "\n",
        "b. **Dictionaries(checks for key presence)**\n",
        "\n",
        "With dictionaries, **in** checks if a **key** (not a value) exists in the dictionary:"
      ],
      "metadata": {
        "id": "dDZLfEyZy8U2"
      }
    },
    {
      "cell_type": "code",
      "source": [
        "prices = {\"apple\": 1.0, \"banana\": 0.5, \"cherry\": 1.5}\n",
        "print(\"banana\" in prices)"
      ],
      "metadata": {
        "colab": {
          "base_uri": "https://localhost:8080/"
        },
        "id": "p6vpy3H7z1DS",
        "outputId": "0dd5eec1-268c-4cbb-d796-8c7e6151f313"
      },
      "execution_count": 8,
      "outputs": [
        {
          "output_type": "stream",
          "name": "stdout",
          "text": [
            "True\n"
          ]
        }
      ]
    },
    {
      "cell_type": "code",
      "source": [
        "print(\"banana\" in prices.values())   # output false because it checks keys, not values"
      ],
      "metadata": {
        "colab": {
          "base_uri": "https://localhost:8080/"
        },
        "id": "NBZrsR4IxjEN",
        "outputId": "45becb69-3ab4-47f3-9dc3-254ff626bf31"
      },
      "execution_count": 9,
      "outputs": [
        {
          "output_type": "stream",
          "name": "stdout",
          "text": [
            "False\n"
          ]
        }
      ]
    },
    {
      "cell_type": "markdown",
      "source": [
        "15. Can you modify the elements of a tuple? Explain why or why not.\n",
        "\n",
        "   -No, you cannot modify the elements of a tuple because tuples in python are immutable--meaning their values cannot be changed after creation.\n",
        "\n",
        "   **WHY?**\n",
        "   * **Memory efficiency**- Since tuples are fixed, python optimizes their storage, making them more lightweight than lists.\n",
        "\n",
        "   * **Hashability**- Tuples can be used as dictionary keys because they never change, whereas lists cannot.\n",
        "\n",
        "   * **Data integrity**- Immutable structures present accidental modifications, making tuples ideal for storing constant data.\n",
        "\n",
        "   For example, trying to modify a tuple results in an error:"
      ],
      "metadata": {
        "id": "1_bPGqoG0H7Z"
      }
    },
    {
      "cell_type": "code",
      "source": [
        "coordinates = (4, 5)\n",
        "coordinates[0] = 10"
      ],
      "metadata": {
        "id": "vYBSsnJo3Yxu"
      },
      "execution_count": null,
      "outputs": []
    },
    {
      "cell_type": "markdown",
      "source": [
        "If modification is necessary, you can convert a tuple into a list, change the values , and then convert it back:"
      ],
      "metadata": {
        "id": "mB6jiDr33iB6"
      }
    },
    {
      "cell_type": "code",
      "source": [
        "coordinates = (4, 5)\n",
        "coordinates_list = list(coordinates)\n",
        "coordinates_list[0] = 10\n",
        "coordinates = tuple(coordinates_list)\n",
        "print(coordinates)"
      ],
      "metadata": {
        "colab": {
          "base_uri": "https://localhost:8080/"
        },
        "id": "ljktA6yD3vUb",
        "outputId": "ffc4a060-85d4-4629-f826-4c390c9c0a91"
      },
      "execution_count": 10,
      "outputs": [
        {
          "output_type": "stream",
          "name": "stdout",
          "text": [
            "(10, 5)\n"
          ]
        }
      ]
    },
    {
      "cell_type": "markdown",
      "source": [
        "16. What is a nested dictionary, and give an example of its use case.\n",
        "\n",
        "   -A **nested dictionary** is a dictionary that contains another dictionary as its value. THis structure is useful for storing complex, hierarchical data.\n",
        "\n",
        "   **EXAMPLE USE CASE: STUDENT RECORDS**\n",
        "   \n",
        "   Imagine you're managing a system that stores student's details, including thier scores in different subjects:"
      ],
      "metadata": {
        "id": "clZlphJV36xe"
      }
    },
    {
      "cell_type": "code",
      "source": [
        "students = {\n",
        "    \"alice\": {\"math\": 95, \"science\": 88, \"history\": 79},\n",
        "    \"bob\": {\"math\": 75, \"science\": 82, \"english\":88},\n",
        "    \"charlie\": {\"math\": 92, \"science\": 90, \"history\": 85}\n",
        "}\n",
        "\n",
        "print(students[\"alice\"][\"math\"])"
      ],
      "metadata": {
        "colab": {
          "base_uri": "https://localhost:8080/"
        },
        "id": "wt1U5iiR4561",
        "outputId": "93f71cc5-c3fb-4c32-9180-23d1128a0e4a"
      },
      "execution_count": 12,
      "outputs": [
        {
          "output_type": "stream",
          "name": "stdout",
          "text": [
            "95\n"
          ]
        }
      ]
    },
    {
      "cell_type": "markdown",
      "source": [
        "Here, each student is a **key**, and their subjects and scores are stored in a nested dictionary.\n",
        "\n",
        "**WHY USE NESTED DICTIONARIES?**\n",
        "\n",
        "* **Organised data**- Ideal for structured information like databases or JSON-like storage.\n",
        "\n",
        "* **Quick access**- easily retrieve details using multiple keys.\n",
        "\n",
        "* **Scalability**- Expands naturally as new data is added."
      ],
      "metadata": {
        "id": "w7V2utbK51gG"
      }
    },
    {
      "cell_type": "markdown",
      "source": [
        "17. Describe the time complexity of accessing elements in a dictionary.\n",
        "\n",
        "   -Accessing an element in a dictionary is **very efficient** because dictionaries in python use hashing.\n",
        "\n",
        "   **TIME COMPLEXITY**:\n",
        "\n",
        "   * **Best & average case**:o1 - Direct lookup using the key is *almost instantaneous due to hashing*.\n",
        "\n",
        "   * **Worse case:O(n)- In rare cases, if there are too many hash collisions(keys mapping to the same bucket), python may need to scan all items.\n",
        "\n",
        "   **Example**:\n"
      ],
      "metadata": {
        "id": "8p9Ir6V66rTX"
      }
    },
    {
      "cell_type": "code",
      "source": [
        "prices = {\"apple\": 100, \"banana\": 50, \"cherry\": 200}\n",
        "print(prices[\"banana\"])"
      ],
      "metadata": {
        "colab": {
          "base_uri": "https://localhost:8080/"
        },
        "id": "seelwy5N9--3",
        "outputId": "4ccb1966-0026-413a-e1de-dca6ffdab29b"
      },
      "execution_count": 14,
      "outputs": [
        {
          "output_type": "stream",
          "name": "stdout",
          "text": [
            "50\n"
          ]
        }
      ]
    },
    {
      "cell_type": "markdown",
      "source": [
        "Since dictionary keys are hashed, searching by key is **much faster** than scanning through a list."
      ],
      "metadata": {
        "id": "vi0MC8v1-Q_O"
      }
    },
    {
      "cell_type": "markdown",
      "source": [
        "18. In what situations are lists prefered over dictionaries.\n",
        "\n",
        "  -Lists are better than dictionaries when you need **ordered data**, **easy itration**, or **index-based access**:\n",
        "\n",
        "  * **Preserving order**: Lists keep elements in sequence, useful for logs or time-series data.\n",
        "\n",
        "  * **Simple looping**: Iterating through a list is straightforward.\n",
        "\n",
        "  * **Sorting & indexing**: YOu can sort and access elements by position.\n",
        "\n",
        "  * **Lightweight storage**: LIsts use less memory than dictionary.\n",
        "\n",
        "  * **Stack & queue operations**: Perfect for LIFO/FIFO tasts.\n",
        "\n"
      ],
      "metadata": {
        "id": "a25XmSBr-ij1"
      }
    },
    {
      "cell_type": "markdown",
      "source": [
        "19. Why are dictionaries considered unordered, and how does that affect data retrieval?\n",
        "\n",
        "    -Dictionaries are **unordered** because they store key-value pairs in **hash table**, rather than maintaining a fixed sequence. This means that the order in which elements are added does not define their storage position.\n",
        "\n",
        "    **HOW IT AFFECTS DATA RETRIEVAL**:\n",
        "\n",
        "    * **No indexing**: You cannot access items by position like in lists; retrieval is always done by keys.\n",
        "\n",
        "    * **Fast lookups**: Since keys are hashed, searching is o1 on average-much faster than scanning a list.\n",
        "\n",
        "    * **Changing order**: Dictionary entries may appear in different sequences depending on insertions or deletions, though python(since version 3.7) maintains insertion order for iteration.\n",
        "\n",
        "    **EXAMPLE**:"
      ],
      "metadata": {
        "id": "XJ2G_dyttZdg"
      }
    },
    {
      "cell_type": "code",
      "source": [
        "data = {\"apple\":100, \"banana\": 50, \"cherry\": 200}\n",
        "print(data[\"banana\"])  # order might differ in older versions"
      ],
      "metadata": {
        "colab": {
          "base_uri": "https://localhost:8080/"
        },
        "id": "oDmNX7MTv4jy",
        "outputId": "9d9d78e0-cbed-48f0-8915-6acfc04c650c"
      },
      "execution_count": 1,
      "outputs": [
        {
          "output_type": "stream",
          "name": "stdout",
          "text": [
            "50\n"
          ]
        }
      ]
    },
    {
      "cell_type": "markdown",
      "source": [
        "20. Explain the difference between a list and a dictionary in terms of data retrieval?\n",
        "\n",
        "    -Lists amd dictionaries differ fundamentally in how they retrieve data:\n",
        "\n",
        "    * Lists use index-based access, meaning elements are retrieved by their position:"
      ],
      "metadata": {
        "id": "CdV1XG_iwSJ5"
      }
    },
    {
      "cell_type": "code",
      "source": [
        "colors = [\"red\", \"green\", \"blue\"]\n",
        "print(colors[1])      # output: \"green\" (retrieved by index)\n",
        "\n"
      ],
      "metadata": {
        "colab": {
          "base_uri": "https://localhost:8080/"
        },
        "id": "pBQngX21xJfU",
        "outputId": "db4cc2c7-ff90-457b-81d3-a0b082d39ea1"
      },
      "execution_count": 2,
      "outputs": [
        {
          "output_type": "stream",
          "name": "stdout",
          "text": [
            "green\n"
          ]
        }
      ]
    },
    {
      "cell_type": "markdown",
      "source": [
        "* This requires o1 time for direct access but o(n) time for searching.\n",
        "\n",
        "* Dictionaries use key-based lookup, retrieving values instantly using hashed keys:"
      ],
      "metadata": {
        "id": "nErgzoXRyHAZ"
      }
    },
    {
      "cell_type": "code",
      "source": [
        "prices = {\"apple\": 100, \"banana\": 50, \"cherry\": 200}\n",
        "print(prices[\"banana\"])    # output:50 (retrieved by key)"
      ],
      "metadata": {
        "colab": {
          "base_uri": "https://localhost:8080/"
        },
        "id": "BFmy2yD8yowo",
        "outputId": "b381fc26-ee1d-4397-bc0f-a8d2ec902a41"
      },
      "execution_count": 3,
      "outputs": [
        {
          "output_type": "stream",
          "name": "stdout",
          "text": [
            "50\n"
          ]
        }
      ]
    },
    {
      "cell_type": "markdown",
      "source": [
        "* This lookup is typically o1--much faster than searching a list.\n",
        "\n",
        "**KEY DIFFERENCES**:\n",
        "\n",
        "* Lists rely on positions, dictionaries rely on keys.\n",
        "\n",
        "* Lists are ordered, dictionaries are unordered (but maintain insertion order in python 3.7+).\n",
        "\n",
        "* Searching a list takes longer, while dictionaries offer instant access."
      ],
      "metadata": {
        "id": "PnsZ6qcczA8B"
      }
    },
    {
      "cell_type": "markdown",
      "source": [
        "# PRACTICAL QUESTIONS"
      ],
      "metadata": {
        "id": "QZX08i1B0ohd"
      }
    },
    {
      "cell_type": "code",
      "source": [
        "# 1. Write a code to create a string with your name and print it.\n",
        "\n",
        "name = \"Monika Mehra\"\n",
        "print(name)"
      ],
      "metadata": {
        "colab": {
          "base_uri": "https://localhost:8080/"
        },
        "id": "_2PxIBd506Ul",
        "outputId": "5fdc71b5-936e-4dec-fde8-9221a7914a65"
      },
      "execution_count": 7,
      "outputs": [
        {
          "output_type": "stream",
          "name": "stdout",
          "text": [
            "Monika Mehra\n"
          ]
        }
      ]
    },
    {
      "cell_type": "code",
      "source": [
        "# 2. Write a code to find the lenght of the string \"Hello world\".\n",
        "\n",
        "text = \"Hello world\"\n",
        "length = len(text)\n",
        "print(length)"
      ],
      "metadata": {
        "colab": {
          "base_uri": "https://localhost:8080/"
        },
        "id": "i02Bfvxb1lDp",
        "outputId": "a71ae1a0-7d85-4d3f-9255-0bcfef43b748"
      },
      "execution_count": 10,
      "outputs": [
        {
          "output_type": "stream",
          "name": "stdout",
          "text": [
            "11\n"
          ]
        }
      ]
    },
    {
      "cell_type": "code",
      "source": [
        "# 3. Write a code to slice the first 3 characters from the string \"python programming\"\n",
        "\n",
        "text = \"python programming\"\n",
        "sliced_text = text[:3]\n",
        "print(sliced_text)\n"
      ],
      "metadata": {
        "colab": {
          "base_uri": "https://localhost:8080/"
        },
        "id": "tGlnw7LU2UNQ",
        "outputId": "8f25b65e-920b-4a92-8c1f-64914d532dc9"
      },
      "execution_count": 11,
      "outputs": [
        {
          "output_type": "stream",
          "name": "stdout",
          "text": [
            "pyt\n"
          ]
        }
      ]
    },
    {
      "cell_type": "code",
      "source": [
        "# 4. Write a code to convert the string \"hello\" to uppercase.\n",
        "\n",
        "text = \"hello\"\n",
        "uppercase_text = text.upper()\n",
        "print(uppercase_text)"
      ],
      "metadata": {
        "colab": {
          "base_uri": "https://localhost:8080/"
        },
        "id": "wefumGN5CmM8",
        "outputId": "d2844e9b-d27b-4b0d-d729-4073faf3a7e0"
      },
      "execution_count": 12,
      "outputs": [
        {
          "output_type": "stream",
          "name": "stdout",
          "text": [
            "HELLO\n"
          ]
        }
      ]
    },
    {
      "cell_type": "code",
      "source": [
        "# 5. Write a code to replace the word \"apple\" with \"orange\" in the string \"i like apple\".\n",
        "\n",
        "text = \"i like apple\"\n",
        "new_text = text.replace(\"apple\", \"orange\")\n",
        "print(new_text)"
      ],
      "metadata": {
        "colab": {
          "base_uri": "https://localhost:8080/"
        },
        "id": "_w6stC2S0fIw",
        "outputId": "3ba1ea65-46e0-4a6d-d8b5-248c4abb853f"
      },
      "execution_count": 13,
      "outputs": [
        {
          "output_type": "stream",
          "name": "stdout",
          "text": [
            "i like orange\n"
          ]
        }
      ]
    },
    {
      "cell_type": "code",
      "source": [
        "# 6. Write a code to create a list with numbers 1 to 5 and print it.\n",
        "\n",
        "numbers = [1, 2, 3, 4, 5]\n",
        "print(numbers)\n"
      ],
      "metadata": {
        "colab": {
          "base_uri": "https://localhost:8080/"
        },
        "id": "6auKjUF4DcwP",
        "outputId": "cd657064-3721-40e7-9a5e-fe5f9aeeb556"
      },
      "execution_count": 14,
      "outputs": [
        {
          "output_type": "stream",
          "name": "stdout",
          "text": [
            "[1, 2, 3, 4, 5]\n"
          ]
        }
      ]
    },
    {
      "cell_type": "code",
      "source": [
        "# 7. Write a code to append the number 10 to the list [1, 2, 3, 4].\n",
        "\n",
        "my_list = [1, 2, 3, 4]\n",
        "my_list.append(10)\n",
        "print(my_list)"
      ],
      "metadata": {
        "colab": {
          "base_uri": "https://localhost:8080/"
        },
        "id": "FIv-JjwLDxvr",
        "outputId": "0e7875f3-3f94-4548-94dd-6eb2b20fd703"
      },
      "execution_count": 15,
      "outputs": [
        {
          "output_type": "stream",
          "name": "stdout",
          "text": [
            "[1, 2, 3, 4, 10]\n"
          ]
        }
      ]
    },
    {
      "cell_type": "code",
      "source": [
        "# 8. Write a code to remove the number 3 from the list [1, 2, 3, 4, 5].\n",
        "\n",
        "my_list = [1, 2, 3, 4, 5]\n",
        "my_list.remove(3)\n",
        "print(my_list)"
      ],
      "metadata": {
        "colab": {
          "base_uri": "https://localhost:8080/"
        },
        "id": "IRGBM9RHEHcy",
        "outputId": "237e1a69-060d-4e80-a64f-a6b63393f7e9"
      },
      "execution_count": 16,
      "outputs": [
        {
          "output_type": "stream",
          "name": "stdout",
          "text": [
            "[1, 2, 4, 5]\n"
          ]
        }
      ]
    },
    {
      "cell_type": "code",
      "source": [
        "# 9. Write a code to access the second element in the list [\"a\", \"b\", \"c\", \"d\"]\n",
        "\n",
        "my_list = [\"a\", \"b\", \"c\", \"d\"]\n",
        "second_element = my_list[1]\n",
        "print(second_element)\n"
      ],
      "metadata": {
        "colab": {
          "base_uri": "https://localhost:8080/"
        },
        "id": "bjhwdN2XEwhE",
        "outputId": "a65ff8f6-1342-428c-c7f6-f78b11c65e07"
      },
      "execution_count": 17,
      "outputs": [
        {
          "output_type": "stream",
          "name": "stdout",
          "text": [
            "b\n"
          ]
        }
      ]
    },
    {
      "cell_type": "code",
      "source": [
        "# 10. Write a code to reverse the list [10, 20, 30, 40].\n",
        "\n",
        "my_list = [10, 20, 30, 40]\n",
        "reversed_list = my_list[::-1]\n",
        "print(reversed_list)\n"
      ],
      "metadata": {
        "colab": {
          "base_uri": "https://localhost:8080/"
        },
        "id": "OVBNd1G9FNMU",
        "outputId": "1ee3d1ce-abcc-44eb-b2f3-2af228ac8b67"
      },
      "execution_count": 18,
      "outputs": [
        {
          "output_type": "stream",
          "name": "stdout",
          "text": [
            "[40, 30, 20, 10]\n"
          ]
        }
      ]
    },
    {
      "cell_type": "code",
      "source": [
        "# 11. Write a code to create a tuple with the elements 100, 200, 300 and print it.\n",
        "\n",
        "numbers = (100, 200, 300)\n",
        "print(numbers)"
      ],
      "metadata": {
        "colab": {
          "base_uri": "https://localhost:8080/"
        },
        "id": "ZJUlMPhuFj_k",
        "outputId": "4493caab-a630-4bd3-e602-2bfcb089b73d"
      },
      "execution_count": 19,
      "outputs": [
        {
          "output_type": "stream",
          "name": "stdout",
          "text": [
            "(100, 200, 300)\n"
          ]
        }
      ]
    },
    {
      "cell_type": "code",
      "source": [
        "# 12. Write a code to access the second-to-last element of the tuple (\"red\", \"green\", \"blue\", \"yellow\").\n",
        "\n",
        "colors = (\"red\", \"green\", \"blue\", \"yellow\")\n",
        "second_to_last = colors[-2]\n",
        "print(second_to_last)"
      ],
      "metadata": {
        "colab": {
          "base_uri": "https://localhost:8080/"
        },
        "id": "sbCXtocHF7Ay",
        "outputId": "c1d2b888-2b18-46c4-f82d-5fe6549075cc"
      },
      "execution_count": 20,
      "outputs": [
        {
          "output_type": "stream",
          "name": "stdout",
          "text": [
            "blue\n"
          ]
        }
      ]
    },
    {
      "cell_type": "code",
      "source": [
        "# 13. Write a code to find the minimum number in the tuple (10, 20, 5, 15).\n",
        "\n",
        "numbers = (10, 20, 5, 15)\n",
        "minimum = min(numbers)\n",
        "print(minimum)"
      ],
      "metadata": {
        "colab": {
          "base_uri": "https://localhost:8080/"
        },
        "id": "Z3ospdXUGcfX",
        "outputId": "163add6b-3bb6-46b6-bdc1-9b96c8914a33"
      },
      "execution_count": 21,
      "outputs": [
        {
          "output_type": "stream",
          "name": "stdout",
          "text": [
            "5\n"
          ]
        }
      ]
    },
    {
      "cell_type": "code",
      "source": [
        "# 14. WRite a code to find the index of the element \"cat\" in the tuple (\"dog\", \"car\", \"rabbit\").\n",
        "\n",
        "animals = (\"dog\", \"cat\", \"rabbit\")\n",
        "cat_index = animals.index(\"cat\")\n",
        "print(cat_index)"
      ],
      "metadata": {
        "colab": {
          "base_uri": "https://localhost:8080/"
        },
        "id": "IjCS4r3XG0Vp",
        "outputId": "dc449925-150f-4059-faa9-ab79b444190f"
      },
      "execution_count": 25,
      "outputs": [
        {
          "output_type": "stream",
          "name": "stdout",
          "text": [
            "1\n"
          ]
        }
      ]
    },
    {
      "cell_type": "code",
      "source": [
        "# 15. Write a code to create a tuple containing three different fruits and check if \"kiwi\" is in it.\n",
        "\n",
        "fruits = (\"apple\", \"banana\", \"cherry\")\n",
        "if \"kiwi\" in fruits:\n",
        "    print(\"kiwi is in the tuple\")\n",
        "else:\n",
        "    print(\"kiwi is not in the tuple\")"
      ],
      "metadata": {
        "colab": {
          "base_uri": "https://localhost:8080/"
        },
        "id": "e4UNXKcDHe3W",
        "outputId": "616d1055-4d80-43ea-ea66-e6db20ee4a50"
      },
      "execution_count": 27,
      "outputs": [
        {
          "output_type": "stream",
          "name": "stdout",
          "text": [
            "kiwi is not in the tuple\n"
          ]
        }
      ]
    },
    {
      "cell_type": "code",
      "source": [
        "# 16. Write a code to create a set with the elements \"a\", \"b\", \"c\" and print it.\n",
        "\n",
        "letters = {\"a\", \"b\", \"c\"}\n",
        "print(letters)"
      ],
      "metadata": {
        "colab": {
          "base_uri": "https://localhost:8080/"
        },
        "id": "J1A932FYIJp1",
        "outputId": "8335881c-14f3-44fd-c37b-ae98e8808379"
      },
      "execution_count": 30,
      "outputs": [
        {
          "output_type": "stream",
          "name": "stdout",
          "text": [
            "{'c', 'b', 'a'}\n"
          ]
        }
      ]
    },
    {
      "cell_type": "code",
      "source": [
        "# 17. Wite a code to clear all elements from the set {1, 2, 3, 4, 5}.\n",
        "\n",
        "numbers = {1, 2, 3, 4, 5}\n",
        "numbers.clear()\n",
        "print(numbers)"
      ],
      "metadata": {
        "colab": {
          "base_uri": "https://localhost:8080/"
        },
        "id": "YirGfVpLIulb",
        "outputId": "f9b20dfb-4817-43b9-9e74-08b03a5241a6"
      },
      "execution_count": 31,
      "outputs": [
        {
          "output_type": "stream",
          "name": "stdout",
          "text": [
            "set()\n"
          ]
        }
      ]
    },
    {
      "cell_type": "code",
      "source": [
        "# 18. Write a code to remove the element 4 from the set {1, 2, 3, 4}.\n",
        "\n",
        "numbers = {1, 2, 3, 4}\n",
        "numbers.remove(4)\n",
        "print(numbers)"
      ],
      "metadata": {
        "colab": {
          "base_uri": "https://localhost:8080/"
        },
        "id": "Ko18yPROJKdl",
        "outputId": "3988a267-80e4-44cc-c6ff-84364b3c8460"
      },
      "execution_count": 32,
      "outputs": [
        {
          "output_type": "stream",
          "name": "stdout",
          "text": [
            "{1, 2, 3}\n"
          ]
        }
      ]
    },
    {
      "cell_type": "code",
      "source": [
        "# 19. write a code to find the union of two sets{1, 2, 3} amd {3, 4, 5}.\n",
        "\n",
        "set1 = {1, 2, 3}\n",
        "set2 = {3, 4, 5}\n",
        "union_set = set1.union(set2)\n",
        "print(union_set)"
      ],
      "metadata": {
        "colab": {
          "base_uri": "https://localhost:8080/"
        },
        "id": "fuR-If0vJiY-",
        "outputId": "5ca5f477-c286-4dd7-b7bc-cf57a21177e8"
      },
      "execution_count": 33,
      "outputs": [
        {
          "output_type": "stream",
          "name": "stdout",
          "text": [
            "{1, 2, 3, 4, 5}\n"
          ]
        }
      ]
    },
    {
      "cell_type": "code",
      "source": [
        "# 20. Write a code to find the interaction of two sets {1, 2, 3} and {2, 3, 4}.\n",
        "\n",
        "set1 = {1, 2, 3}\n",
        "set2 = {2, 3, 4}\n",
        "intersection_set = set1.intersection(set2)\n",
        "intersection_set_alt = set1 & set2\n",
        "print(intersection_set)\n",
        "print(intersection_set_alt)"
      ],
      "metadata": {
        "colab": {
          "base_uri": "https://localhost:8080/"
        },
        "id": "b3Qcz_RWKBpE",
        "outputId": "1e6e3c42-c8bc-44cd-95ee-1264a922a45e"
      },
      "execution_count": 36,
      "outputs": [
        {
          "output_type": "stream",
          "name": "stdout",
          "text": [
            "{2, 3}\n",
            "{2, 3}\n"
          ]
        }
      ]
    },
    {
      "cell_type": "code",
      "source": [
        "# 21. write a code to create a dictionary with the keys \"name\", \"age\", and \"city\" and print it.\n",
        "\n",
        "person = {\"name\": \"Alice\",\n",
        "          \"age\": 30,\n",
        "          \"city\": \"New York\"}\n",
        "print(person)"
      ],
      "metadata": {
        "colab": {
          "base_uri": "https://localhost:8080/"
        },
        "id": "IOv0kAMOKrXL",
        "outputId": "107d4acb-aa1b-46a9-f5c5-3017095c6eb2"
      },
      "execution_count": 38,
      "outputs": [
        {
          "output_type": "stream",
          "name": "stdout",
          "text": [
            "{'name': 'Alice', 'age': 30, 'city': 'New York'}\n"
          ]
        }
      ]
    },
    {
      "cell_type": "code",
      "source": [
        "# 22. Write a code to add a new key-value pair \"country\": \"USA\" to the dictionary {\"name\": \"john\", \"age\": \"25\"}.\n",
        "\n",
        "person = {\"name\": \"john\", \"age\": \"25\"}\n",
        "person[\"country\"] = \"USA\"\n",
        "print(person)"
      ],
      "metadata": {
        "colab": {
          "base_uri": "https://localhost:8080/"
        },
        "id": "ue97gphILSLY",
        "outputId": "8fc32e08-d896-42cb-ee29-2953c2d514af"
      },
      "execution_count": 39,
      "outputs": [
        {
          "output_type": "stream",
          "name": "stdout",
          "text": [
            "{'name': 'john', 'age': '25', 'country': 'USA'}\n"
          ]
        }
      ]
    },
    {
      "cell_type": "code",
      "source": [
        "# 23. Write a code to access the value associated with the key name \"name\" in the dictionary {\"name\": \"alice\", \"age\": \"30\"}.\n",
        "\n",
        "person = {\"name\": \"alice\", \"age\": \"30\"}\n",
        "name_value = person[\"name\"]\n",
        "print(name_value)"
      ],
      "metadata": {
        "colab": {
          "base_uri": "https://localhost:8080/"
        },
        "id": "bnG91iDhLtqh",
        "outputId": "b0310de4-20d5-4c47-d385-c8cfeeb53f51"
      },
      "execution_count": 40,
      "outputs": [
        {
          "output_type": "stream",
          "name": "stdout",
          "text": [
            "alice\n"
          ]
        }
      ]
    },
    {
      "cell_type": "code",
      "source": [
        "# 24. Write a code to remove the key \"age\" from the dictionary {\"name\": \"bob\", \"age\": \"22\", \"city\": \"new york\"}.\n",
        "\n",
        "person = {\"name\": \"bob\", \"age\": \"22\", \"city\": \"new york\"}\n",
        "del person[\"age\"]\n",
        "print(person)"
      ],
      "metadata": {
        "colab": {
          "base_uri": "https://localhost:8080/"
        },
        "id": "gWCcfhsFMGGl",
        "outputId": "cf6fce2a-82c7-4248-9d36-44dc5dbc74ab"
      },
      "execution_count": 41,
      "outputs": [
        {
          "output_type": "stream",
          "name": "stdout",
          "text": [
            "{'name': 'bob', 'city': 'new york'}\n"
          ]
        }
      ]
    },
    {
      "cell_type": "code",
      "source": [
        "# 25. Write a code to check if the key \"city exists in the dictionary {\"name\": \"alice\", \"city\": \"paris\"}.\n",
        "\n",
        "person = {\"name\": \"alice\", \"city\": \"paris\"}\n",
        "if \"city\" in person:\n",
        "    print(\"The key 'city' exists in the dictionary.\")\n",
        "else:\n",
        "    print(\"The key 'city' does not exist in the dictionary.\")"
      ],
      "metadata": {
        "colab": {
          "base_uri": "https://localhost:8080/"
        },
        "id": "hO5kSRjrMir-",
        "outputId": "f12b0497-f5d3-4704-ec5b-9e3ccbde5954"
      },
      "execution_count": 42,
      "outputs": [
        {
          "output_type": "stream",
          "name": "stdout",
          "text": [
            "The key 'city' exists in the dictionary.\n"
          ]
        }
      ]
    },
    {
      "cell_type": "code",
      "source": [
        "# 26. Write a code to create a list, a tuple, and a dictionary, and print them all.\n",
        "\n",
        "my_list = [1, 2, 3, 4]\n",
        "my_tuple = (1, 2, 3, 4)\n",
        "my_dict = {\"name\": \"Alice\", \"age\": 30}\n",
        "\n",
        "print(\"List:\", my_list)\n",
        "print(\"Tuple:\", my_tuple)\n",
        "print(\"Dictionary:\", my_dict)\n"
      ],
      "metadata": {
        "colab": {
          "base_uri": "https://localhost:8080/"
        },
        "id": "nPf9NF1rM9Jk",
        "outputId": "d94ed486-0f9a-474d-aec0-43707d82cc63"
      },
      "execution_count": 43,
      "outputs": [
        {
          "output_type": "stream",
          "name": "stdout",
          "text": [
            "List: [1, 2, 3, 4]\n",
            "Tuple: (1, 2, 3, 4)\n",
            "Dictionary: {'name': 'Alice', 'age': 30}\n"
          ]
        }
      ]
    },
    {
      "cell_type": "code",
      "source": [
        "# 27. Write a code to create a list of 5 random numbers between 1 and 100, sort it in ascending order, and print the result (replaced).\n",
        "\n",
        "import random\n",
        "\n",
        "random_numbers = [random.randint(1, 100) for _ in range(5)]\n",
        "sorted_numbers = sorted(random_numbers)\n",
        "\n",
        "print(\"random numbers:\", random_numbers)\n",
        "print(\"sorted numbers:\", sorted_numbers)"
      ],
      "metadata": {
        "colab": {
          "base_uri": "https://localhost:8080/"
        },
        "id": "uoCdvXLwNZDh",
        "outputId": "a7b8fff5-ef87-4e85-e0af-2c56118a06ee"
      },
      "execution_count": 46,
      "outputs": [
        {
          "output_type": "stream",
          "name": "stdout",
          "text": [
            "random numbers: [30, 40, 56, 18, 2]\n",
            "sorted numbers: [2, 18, 30, 40, 56]\n"
          ]
        }
      ]
    },
    {
      "cell_type": "code",
      "source": [
        "# 28. write a code to create a list with strings and print the element at the  third index.\n",
        "\n",
        "my_list = [\"apple\", \"banana\", \"cherry\", \"date\", \"elderberry\"]\n",
        "third_element = my_list[2]\n",
        "print(third_element)"
      ],
      "metadata": {
        "colab": {
          "base_uri": "https://localhost:8080/"
        },
        "id": "MOUidoXhOWSO",
        "outputId": "8a298469-f808-4098-93be-62eca98393ce"
      },
      "execution_count": 47,
      "outputs": [
        {
          "output_type": "stream",
          "name": "stdout",
          "text": [
            "cherry\n"
          ]
        }
      ]
    },
    {
      "cell_type": "code",
      "source": [
        "# 29. Write a code to combine two dictionariesinto one and print the result.\n",
        "\n",
        "dict1 = {\"a\": 1, \"b\": 2}\n",
        "dict2 = {\"c\": 3, \"d\": 4}\n",
        "combined_dict = {**dict1, **dict2}\n",
        "print(combined_dict)\n"
      ],
      "metadata": {
        "colab": {
          "base_uri": "https://localhost:8080/"
        },
        "id": "wwWOblFiOx6h",
        "outputId": "3b1a05d3-1e88-4646-9c6e-5625fd0a882b"
      },
      "execution_count": 48,
      "outputs": [
        {
          "output_type": "stream",
          "name": "stdout",
          "text": [
            "{'a': 1, 'b': 2, 'c': 3, 'd': 4}\n"
          ]
        }
      ]
    },
    {
      "cell_type": "code",
      "source": [
        "# 30. Write a code to convert a list into a set.\n",
        "\n",
        "my_list = [\"apple\", \"banana\", \"cherry\", \"orange\"]\n",
        "my_set = set(my_list)\n",
        "print(my_set)"
      ],
      "metadata": {
        "colab": {
          "base_uri": "https://localhost:8080/"
        },
        "id": "Pwg4AR6RPIes",
        "outputId": "edf743d6-f972-4905-8522-b46038784d58"
      },
      "execution_count": 50,
      "outputs": [
        {
          "output_type": "stream",
          "name": "stdout",
          "text": [
            "{'cherry', 'orange', 'banana', 'apple'}\n"
          ]
        }
      ]
    },
    {
      "cell_type": "code",
      "source": [],
      "metadata": {
        "id": "xW0RQuJVHvbc"
      },
      "execution_count": null,
      "outputs": []
    }
  ]
}